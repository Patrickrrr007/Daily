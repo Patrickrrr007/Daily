{
 "cells": [
  {
   "cell_type": "markdown",
   "metadata": {},
   "source": [
    "# 淺拷貝"
   ]
  },
  {
   "cell_type": "code",
   "execution_count": null,
   "metadata": {},
   "outputs": [],
   "source": [
    "a = [1,2]\n",
    "b = [3,4]\n",
    "c = a.copy()\n",
    "d = b.copy()\n",
    "\n",
    "# The copy of the new assignment will be different location.\n",
    "print(\"a:\",id(a),\"b:\",id(b),\"c:\",id(c),\"d:\",id(d))\n",
    "\n",
    "a.append(5)\n",
    "b.append(10)\n",
    "\n",
    "# print(type(a))\n",
    "print(\"a:\",a,\"b:\",b,\"c:\",c,\"d:\",d)\n",
    "print(\"a:\",id(a),\"b:\",id(b),\"c:\",id(c),\"d:\",id(d))"
   ]
  },
  {
   "cell_type": "markdown",
   "metadata": {},
   "source": [
    "# 深拷貝"
   ]
  },
  {
   "cell_type": "code",
   "execution_count": 12,
   "metadata": {},
   "outputs": [
    {
     "name": "stdout",
     "output_type": "stream",
     "text": [
      "[10, 20] [10, 20]\n",
      "[30, 40] [30, 40]\n"
     ]
    }
   ],
   "source": [
    "import copy\n",
    "\n",
    "apple = [10,20]\n",
    "banana = [30,40]\n",
    "apple_copy = copy.copy(apple)\n",
    "banana_copy = copy.deepcopy(banana)\n",
    "# banana_copy = banana.deepcopy()\n",
    "print(apple,apple_copy)\n",
    "print(banana, banana_copy)\n"
   ]
  }
 ],
 "metadata": {
  "kernelspec": {
   "display_name": "Python 3",
   "language": "python",
   "name": "python3"
  },
  "language_info": {
   "codemirror_mode": {
    "name": "ipython",
    "version": 3
   },
   "file_extension": ".py",
   "mimetype": "text/x-python",
   "name": "python",
   "nbconvert_exporter": "python",
   "pygments_lexer": "ipython3",
   "version": "3.9.6"
  }
 },
 "nbformat": 4,
 "nbformat_minor": 2
}
